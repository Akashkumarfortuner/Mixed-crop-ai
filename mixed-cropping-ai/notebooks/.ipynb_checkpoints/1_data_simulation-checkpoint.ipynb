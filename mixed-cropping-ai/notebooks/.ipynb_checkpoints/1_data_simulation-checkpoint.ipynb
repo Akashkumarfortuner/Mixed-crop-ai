{
 "cells": [
  {
   "cell_type": "code",
   "execution_count": 1,
   "id": "86359aae",
   "metadata": {},
   "outputs": [
    {
     "name": "stdout",
     "output_type": "stream",
     "text": [
      "Libraries imported successfully.\n"
     ]
    }
   ],
   "source": [
    "# Cell 1: Import Libraries\n",
    "import pandas as pd\n",
    "import numpy as np\n",
    "import os\n",
    "from datetime import timedelta\n",
    "\n",
    "print(\"Libraries imported successfully.\")"
   ]
  },
  {
   "cell_type": "code",
   "execution_count": 2,
   "id": "e370345e",
   "metadata": {},
   "outputs": [
    {
     "name": "stdout",
     "output_type": "stream",
     "text": [
      "Configuration set. Output will be saved to: ../data/simulated/\n"
     ]
    }
   ],
   "source": [
    "# Cell 2: Configuration\n",
    "# Define where to save the simulated data\n",
    "output_dir = '../data/simulated/'\n",
    "os.makedirs(output_dir, exist_ok=True)\n",
    "\n",
    "# Define the crops we are focusing on\n",
    "CROPS = ['Black Pepper', 'Arecanut', 'Banana']\n",
    "\n",
    "print(f\"Configuration set. Output will be saved to: {output_dir}\")"
   ]
  },
  {
   "cell_type": "code",
   "execution_count": 3,
   "id": "d413d28b",
   "metadata": {},
   "outputs": [
    {
     "name": "stdout",
     "output_type": "stream",
     "text": [
      "Simulating environmental data...\n",
      "Generated environmental data for 15 plots.\n",
      "            timestamp  plot_id  temperature  humidity  soil_moisture  soil_ph\n",
      "0 2024-01-01 00:00:00        0        30.67     74.29          58.80     5.75\n",
      "1 2024-01-01 01:00:00        0        30.92     80.56          64.54     5.90\n",
      "2 2024-01-01 02:00:00        0        30.22     77.35          61.61     5.88\n",
      "3 2024-01-01 03:00:00        0        29.81     85.52          69.10     5.72\n",
      "4 2024-01-01 04:00:00        0        31.43     81.97          65.84     5.79\n"
     ]
    }
   ],
   "source": [
    "# Cell 3: Simulate Environmental Time-Series Data\n",
    "print(\"Simulating environmental data...\")\n",
    "\n",
    "# Simulate 1 year of hourly data for 15 different plots\n",
    "dates = pd.date_range(start='2024-01-01', periods=365*24, freq='h')\n",
    "all_plots_env_data = []\n",
    "\n",
    "for plot_id in range(15):\n",
    "    # Base seasonal patterns for a tropical climate (like in parts of India)\n",
    "    temp_base = 28  # Average temperature\n",
    "    temp_season_amplitude = 5 # Seasonal variation\n",
    "    temp_season = temp_base - temp_season_amplitude * np.cos(2 * np.pi * (dates.dayofyear - 120) / 365) # Peak in May\n",
    "\n",
    "    humidity_base = 80 # Average humidity\n",
    "    humidity_season_amplitude = 15\n",
    "    humidity_season = humidity_base + humidity_season_amplitude * np.sin(2 * np.pi * (dates.dayofyear - 180) / 365) # Peak in monsoon (July)\n",
    "\n",
    "    # Add daily noise and random variations per plot\n",
    "    temp_daily_noise = np.random.normal(0, 0.8, len(dates))\n",
    "    humidity_daily_noise = np.random.normal(0, 3, len(dates))\n",
    "    \n",
    "    temp = temp_season + temp_daily_noise + np.random.uniform(-0.5, 0.5)\n",
    "    humidity = np.clip(humidity_season + humidity_daily_noise + np.random.uniform(-3, 3), 40, 100)\n",
    "    \n",
    "    # Soil moisture is influenced by humidity/rain and has its own drying trend\n",
    "    soil_moisture = np.interp(humidity, (40, 100), (35, 90)) + np.random.normal(0, 5)\n",
    "    \n",
    "    # pH is relatively stable with minor fluctuations\n",
    "    ph = 6.2 + np.random.uniform(-0.4, 0.4) + np.random.normal(0, 0.05, len(dates))\n",
    "    \n",
    "    df = pd.DataFrame({\n",
    "        'timestamp': dates,\n",
    "        'plot_id': plot_id,\n",
    "        'temperature': temp.round(2),\n",
    "        'humidity': humidity.round(2),\n",
    "        'soil_moisture': np.clip(soil_moisture, 0, 100).round(2),\n",
    "        'soil_ph': np.clip(ph, 4, 9).round(2)\n",
    "    })\n",
    "    all_plots_env_data.append(df)\n",
    "\n",
    "environmental_df = pd.concat(all_plots_env_data)\n",
    "environmental_df.to_csv(os.path.join(output_dir, 'environmental_data.csv'), index=False)\n",
    "\n",
    "print(f\"Generated environmental data for {environmental_df['plot_id'].nunique()} plots.\")\n",
    "print(environmental_df.head())"
   ]
  },
  {
   "cell_type": "code",
   "execution_count": 5,
   "id": "d729442d",
   "metadata": {},
   "outputs": [
    {
     "name": "stdout",
     "output_type": "stream",
     "text": [
      "\n",
      "Simulating soil and microbial data...\n",
      "Generated soil/microbial data for 15 plots.\n",
      "   plot_id  primary_crop                 crop_mix  microbe_trichoderma_cfu_g  \\\n",
      "0        0  Black Pepper  Black Pepper + Arecanut                   237940.0   \n",
      "1        1        Banana        Banana + Arecanut                    38712.0   \n",
      "2        2      Arecanut  Arecanut + Black Pepper                   166993.0   \n",
      "3        3  Black Pepper    Black Pepper + Banana                   164362.0   \n",
      "4        4  Black Pepper  Black Pepper + Arecanut                   240067.0   \n",
      "\n",
      "   microbe_pseudomonas_cfu_g  organic_carbon_percent  nitrogen_kg_ha  \\\n",
      "0                   128595.0                    2.30          471.73   \n",
      "1                    38878.0                    1.09          355.07   \n",
      "2                    74996.0                    1.64          325.03   \n",
      "3                   115056.0                    1.24          430.80   \n",
      "4                   147384.0                    2.21          399.96   \n",
      "\n",
      "   phosphorus_kg_ha  potassium_kg_ha  yield_kg_ha  \n",
      "0             56.50           344.41      1877.30  \n",
      "1             42.86           196.61       789.21  \n",
      "2             29.74           282.56       556.36  \n",
      "3             59.60           379.19      2071.97  \n",
      "4             69.16           357.77      2076.77  \n"
     ]
    }
   ],
   "source": [
    "# Cell 4: Simulate Microbial and Soil Nutrient Data\n",
    "print(\"\\nSimulating soil and microbial data...\")\n",
    "\n",
    "# One entry per plot, representing a soil test\n",
    "soil_data_list = []\n",
    "for plot_id in range(15):\n",
    "    # Assign a primary crop and a mix\n",
    "    primary_crop = np.random.choice(CROPS)\n",
    "    companions = [c for c in CROPS if c != primary_crop]\n",
    "    crop_mix = f\"{primary_crop} + {np.random.choice(companions)}\"\n",
    "\n",
    "    # Simulate microbe counts and nutrient levels\n",
    "    # Let's create a simple correlation: higher organic carbon -> more microbes\n",
    "    organic_carbon = np.random.uniform(0.7, 3.0)\n",
    "    microbe_a_count = int(1e5 * organic_carbon + np.random.normal(0, 5e4))\n",
    "    microbe_b_count = int(8e4 * organic_carbon + np.random.normal(0, 4e4))\n",
    "    \n",
    "    # Simulate yield based on a pseudo-formula for realism\n",
    "    # Good conditions: high N, P, K, and balanced pH\n",
    "    nitrogen = np.random.uniform(280, 550)\n",
    "    phosphorus = np.random.uniform(25, 70)\n",
    "    potassium = np.random.uniform(170, 380)\n",
    "    \n",
    "    yield_base = 1000\n",
    "    yield_factor_n = (nitrogen / 400)\n",
    "    yield_factor_p = (phosphorus / 50)\n",
    "    yield_factor_k = (potassium / 250)\n",
    "    \n",
    "    # The target variable for our DNN model\n",
    "    final_yield = yield_base * yield_factor_n * yield_factor_p * yield_factor_k + np.random.normal(0, 150)\n",
    "    \n",
    "    soil_data_list.append({\n",
    "        'plot_id': plot_id,\n",
    "        'primary_crop': primary_crop,\n",
    "        'crop_mix': crop_mix,\n",
    "        'microbe_trichoderma_cfu_g': np.clip(microbe_a_count, 1e4, 1e7),\n",
    "        'microbe_pseudomonas_cfu_g': np.clip(microbe_b_count, 8e3, 8e6),\n",
    "        'organic_carbon_percent': round(organic_carbon, 2),\n",
    "        'nitrogen_kg_ha': round(nitrogen, 2),\n",
    "        'phosphorus_kg_ha': round(phosphorus, 2),\n",
    "        'potassium_kg_ha': round(potassium, 2),\n",
    "        'yield_kg_ha': np.clip(final_yield, 400, 5000).round(2)\n",
    "    })\n",
    "\n",
    "soil_df = pd.DataFrame(soil_data_list)\n",
    "soil_df.to_csv(os.path.join(output_dir, 'soil_microbe_data.csv'), index=False)\n",
    "\n",
    "print(f\"Generated soil/microbial data for {len(soil_df)} plots.\")\n",
    "print(soil_df.head())"
   ]
  }
 ],
 "metadata": {
  "kernelspec": {
   "display_name": "Python 3",
   "language": "python",
   "name": "python3"
  },
  "language_info": {
   "codemirror_mode": {
    "name": "ipython",
    "version": 3
   },
   "file_extension": ".py",
   "mimetype": "text/x-python",
   "name": "python",
   "nbconvert_exporter": "python",
   "pygments_lexer": "ipython3",
   "version": "3.12.0"
  }
 },
 "nbformat": 4,
 "nbformat_minor": 5
}
