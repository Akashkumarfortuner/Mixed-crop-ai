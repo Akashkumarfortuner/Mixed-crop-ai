{
 "cells": [
  {
   "cell_type": "code",
   "execution_count": 1,
   "id": "bd5d3223",
   "metadata": {},
   "outputs": [
    {
     "name": "stdout",
     "output_type": "stream",
     "text": [
      "TensorFlow Version: 2.19.0\n",
      "Libraries imported.\n"
     ]
    }
   ],
   "source": [
    "# Cell 1: Import Libraries\n",
    "import pandas as pd\n",
    "import numpy as np\n",
    "import tensorflow as tf\n",
    "from tensorflow.keras.models import Sequential\n",
    "from tensorflow.keras.layers import Dense, Dropout\n",
    "from sklearn.model_selection import train_test_split\n",
    "from sklearn.preprocessing import MinMaxScaler, OneHotEncoder\n",
    "from sklearn.compose import ColumnTransformer\n",
    "from sklearn.pipeline import Pipeline\n",
    "import os\n",
    "import joblib # We use joblib to save our preprocessor\n",
    "\n",
    "print(\"TensorFlow Version:\", tf.__version__)\n",
    "print(\"Libraries imported.\")"
   ]
  },
  {
   "cell_type": "code",
   "execution_count": 2,
   "id": "21f806eb",
   "metadata": {},
   "outputs": [
    {
     "name": "stdout",
     "output_type": "stream",
     "text": [
      "Loading soil and microbial dataset...\n",
      "Dataset loaded successfully.\n",
      "Shape of the data: (15, 10)\n",
      "   plot_id  primary_crop                 crop_mix  microbe_trichoderma_cfu_g  \\\n",
      "0        0  Black Pepper  Black Pepper + Arecanut                   237940.0   \n",
      "1        1        Banana        Banana + Arecanut                    38712.0   \n",
      "2        2      Arecanut  Arecanut + Black Pepper                   166993.0   \n",
      "3        3  Black Pepper    Black Pepper + Banana                   164362.0   \n",
      "4        4  Black Pepper  Black Pepper + Arecanut                   240067.0   \n",
      "\n",
      "   microbe_pseudomonas_cfu_g  organic_carbon_percent  nitrogen_kg_ha  \\\n",
      "0                   128595.0                    2.30          471.73   \n",
      "1                    38878.0                    1.09          355.07   \n",
      "2                    74996.0                    1.64          325.03   \n",
      "3                   115056.0                    1.24          430.80   \n",
      "4                   147384.0                    2.21          399.96   \n",
      "\n",
      "   phosphorus_kg_ha  potassium_kg_ha  yield_kg_ha  \n",
      "0             56.50           344.41      1877.30  \n",
      "1             42.86           196.61       789.21  \n",
      "2             29.74           282.56       556.36  \n",
      "3             59.60           379.19      2071.97  \n",
      "4             69.16           357.77      2076.77  \n"
     ]
    }
   ],
   "source": [
    "# Cell 2: Load the Dataset\n",
    "print(\"Loading soil and microbial dataset...\")\n",
    "\n",
    "try:\n",
    "    soil_df = pd.read_csv('../data/simulated/soil_microbe_data.csv')\n",
    "except FileNotFoundError:\n",
    "    print(\"ERROR: soil_microbe_data.csv not found. Please run the '1_data_simulation.ipynb' notebook first.\")\n",
    "    raise\n",
    "\n",
    "print(\"Dataset loaded successfully.\")\n",
    "print(\"Shape of the data:\", soil_df.shape)\n",
    "print(soil_df.head())"
   ]
  },
  {
   "cell_type": "code",
   "execution_count": 3,
   "id": "bd388618",
   "metadata": {},
   "outputs": [
    {
     "name": "stdout",
     "output_type": "stream",
     "text": [
      "\n",
      "Preprocessing data...\n",
      "Preprocessing pipeline created.\n"
     ]
    }
   ],
   "source": [
    "# Cell 3: Data Preprocessing\n",
    "print(\"\\nPreprocessing data...\")\n",
    "\n",
    "# We will drop 'crop_mix' as 'primary_crop' is our main categorical feature\n",
    "soil_df = soil_df.drop(columns=['plot_id', 'crop_mix'])\n",
    "\n",
    "# Define which columns are numerical and which are categorical\n",
    "numerical_features = [\n",
    "    'microbe_trichoderma_cfu_g', 'microbe_pseudomonas_cfu_g',\n",
    "    'organic_carbon_percent', 'nitrogen_kg_ha', 'phosphorus_kg_ha', 'potassium_kg_ha'\n",
    "]\n",
    "categorical_features = ['primary_crop']\n",
    "\n",
    "# Separate features (X) from the target (y)\n",
    "X = soil_df.drop('yield_kg_ha', axis=1)\n",
    "y = soil_df['yield_kg_ha']\n",
    "\n",
    "# Create a preprocessing pipeline. This is a robust way to handle different data types.\n",
    "# 1. For numerical features, we scale them to be between 0 and 1.\n",
    "# 2. For categorical features, we convert them into a numerical format using One-Hot Encoding.\n",
    "preprocessor = ColumnTransformer(\n",
    "    transformers=[\n",
    "        ('num', MinMaxScaler(), numerical_features),\n",
    "        ('cat', OneHotEncoder(handle_unknown='ignore'), categorical_features)\n",
    "    ])\n",
    "\n",
    "print(\"Preprocessing pipeline created.\")"
   ]
  },
  {
   "cell_type": "code",
   "execution_count": 4,
   "id": "38ab8dc8",
   "metadata": {},
   "outputs": [
    {
     "name": "stdout",
     "output_type": "stream",
     "text": [
      "\n",
      "Splitting data and applying preprocessing...\n",
      "Training data shape after processing: (12, 9)\n",
      "Testing data shape after processing: (3, 9)\n"
     ]
    }
   ],
   "source": [
    "# Cell 4: Split Data and Apply Preprocessing\n",
    "print(\"\\nSplitting data and applying preprocessing...\")\n",
    "\n",
    "# Split the data into training and testing sets\n",
    "X_train, X_test, y_train, y_test = train_test_split(X, y, test_size=0.2, random_state=42)\n",
    "\n",
    "# Fit the preprocessor on the training data and transform it\n",
    "X_train_processed = preprocessor.fit_transform(X_train)\n",
    "\n",
    "# Only transform the test data using the already-fitted preprocessor\n",
    "X_test_processed = preprocessor.transform(X_test)\n",
    "\n",
    "print(\"Training data shape after processing:\", X_train_processed.shape)\n",
    "print(\"Testing data shape after processing:\", X_test_processed.shape)"
   ]
  },
  {
   "cell_type": "code",
   "execution_count": 5,
   "id": "f2cd1c3a",
   "metadata": {},
   "outputs": [
    {
     "name": "stdout",
     "output_type": "stream",
     "text": [
      "\n",
      "Building the DNN model...\n"
     ]
    },
    {
     "name": "stderr",
     "output_type": "stream",
     "text": [
      "c:\\Final_Year_Project\\venv\\Lib\\site-packages\\keras\\src\\layers\\core\\dense.py:92: UserWarning: Do not pass an `input_shape`/`input_dim` argument to a layer. When using Sequential models, prefer using an `Input(shape)` object as the first layer in the model instead.\n",
      "  super().__init__(activity_regularizer=activity_regularizer, **kwargs)\n"
     ]
    },
    {
     "data": {
      "text/html": [
       "<pre style=\"white-space:pre;overflow-x:auto;line-height:normal;font-family:Menlo,'DejaVu Sans Mono',consolas,'Courier New',monospace\"><span style=\"font-weight: bold\">Model: \"sequential\"</span>\n",
       "</pre>\n"
      ],
      "text/plain": [
       "\u001b[1mModel: \"sequential\"\u001b[0m\n"
      ]
     },
     "metadata": {},
     "output_type": "display_data"
    },
    {
     "data": {
      "text/html": [
       "<pre style=\"white-space:pre;overflow-x:auto;line-height:normal;font-family:Menlo,'DejaVu Sans Mono',consolas,'Courier New',monospace\">┏━━━━━━━━━━━━━━━━━━━━━━━━━━━━━━━━━┳━━━━━━━━━━━━━━━━━━━━━━━━┳━━━━━━━━━━━━━━━┓\n",
       "┃<span style=\"font-weight: bold\"> Layer (type)                    </span>┃<span style=\"font-weight: bold\"> Output Shape           </span>┃<span style=\"font-weight: bold\">       Param # </span>┃\n",
       "┡━━━━━━━━━━━━━━━━━━━━━━━━━━━━━━━━━╇━━━━━━━━━━━━━━━━━━━━━━━━╇━━━━━━━━━━━━━━━┩\n",
       "│ dense (<span style=\"color: #0087ff; text-decoration-color: #0087ff\">Dense</span>)                   │ (<span style=\"color: #00d7ff; text-decoration-color: #00d7ff\">None</span>, <span style=\"color: #00af00; text-decoration-color: #00af00\">128</span>)            │         <span style=\"color: #00af00; text-decoration-color: #00af00\">1,280</span> │\n",
       "├─────────────────────────────────┼────────────────────────┼───────────────┤\n",
       "│ dropout (<span style=\"color: #0087ff; text-decoration-color: #0087ff\">Dropout</span>)               │ (<span style=\"color: #00d7ff; text-decoration-color: #00d7ff\">None</span>, <span style=\"color: #00af00; text-decoration-color: #00af00\">128</span>)            │             <span style=\"color: #00af00; text-decoration-color: #00af00\">0</span> │\n",
       "├─────────────────────────────────┼────────────────────────┼───────────────┤\n",
       "│ dense_1 (<span style=\"color: #0087ff; text-decoration-color: #0087ff\">Dense</span>)                 │ (<span style=\"color: #00d7ff; text-decoration-color: #00d7ff\">None</span>, <span style=\"color: #00af00; text-decoration-color: #00af00\">64</span>)             │         <span style=\"color: #00af00; text-decoration-color: #00af00\">8,256</span> │\n",
       "├─────────────────────────────────┼────────────────────────┼───────────────┤\n",
       "│ dropout_1 (<span style=\"color: #0087ff; text-decoration-color: #0087ff\">Dropout</span>)             │ (<span style=\"color: #00d7ff; text-decoration-color: #00d7ff\">None</span>, <span style=\"color: #00af00; text-decoration-color: #00af00\">64</span>)             │             <span style=\"color: #00af00; text-decoration-color: #00af00\">0</span> │\n",
       "├─────────────────────────────────┼────────────────────────┼───────────────┤\n",
       "│ dense_2 (<span style=\"color: #0087ff; text-decoration-color: #0087ff\">Dense</span>)                 │ (<span style=\"color: #00d7ff; text-decoration-color: #00d7ff\">None</span>, <span style=\"color: #00af00; text-decoration-color: #00af00\">32</span>)             │         <span style=\"color: #00af00; text-decoration-color: #00af00\">2,080</span> │\n",
       "├─────────────────────────────────┼────────────────────────┼───────────────┤\n",
       "│ dense_3 (<span style=\"color: #0087ff; text-decoration-color: #0087ff\">Dense</span>)                 │ (<span style=\"color: #00d7ff; text-decoration-color: #00d7ff\">None</span>, <span style=\"color: #00af00; text-decoration-color: #00af00\">1</span>)              │            <span style=\"color: #00af00; text-decoration-color: #00af00\">33</span> │\n",
       "└─────────────────────────────────┴────────────────────────┴───────────────┘\n",
       "</pre>\n"
      ],
      "text/plain": [
       "┏━━━━━━━━━━━━━━━━━━━━━━━━━━━━━━━━━┳━━━━━━━━━━━━━━━━━━━━━━━━┳━━━━━━━━━━━━━━━┓\n",
       "┃\u001b[1m \u001b[0m\u001b[1mLayer (type)                   \u001b[0m\u001b[1m \u001b[0m┃\u001b[1m \u001b[0m\u001b[1mOutput Shape          \u001b[0m\u001b[1m \u001b[0m┃\u001b[1m \u001b[0m\u001b[1m      Param #\u001b[0m\u001b[1m \u001b[0m┃\n",
       "┡━━━━━━━━━━━━━━━━━━━━━━━━━━━━━━━━━╇━━━━━━━━━━━━━━━━━━━━━━━━╇━━━━━━━━━━━━━━━┩\n",
       "│ dense (\u001b[38;5;33mDense\u001b[0m)                   │ (\u001b[38;5;45mNone\u001b[0m, \u001b[38;5;34m128\u001b[0m)            │         \u001b[38;5;34m1,280\u001b[0m │\n",
       "├─────────────────────────────────┼────────────────────────┼───────────────┤\n",
       "│ dropout (\u001b[38;5;33mDropout\u001b[0m)               │ (\u001b[38;5;45mNone\u001b[0m, \u001b[38;5;34m128\u001b[0m)            │             \u001b[38;5;34m0\u001b[0m │\n",
       "├─────────────────────────────────┼────────────────────────┼───────────────┤\n",
       "│ dense_1 (\u001b[38;5;33mDense\u001b[0m)                 │ (\u001b[38;5;45mNone\u001b[0m, \u001b[38;5;34m64\u001b[0m)             │         \u001b[38;5;34m8,256\u001b[0m │\n",
       "├─────────────────────────────────┼────────────────────────┼───────────────┤\n",
       "│ dropout_1 (\u001b[38;5;33mDropout\u001b[0m)             │ (\u001b[38;5;45mNone\u001b[0m, \u001b[38;5;34m64\u001b[0m)             │             \u001b[38;5;34m0\u001b[0m │\n",
       "├─────────────────────────────────┼────────────────────────┼───────────────┤\n",
       "│ dense_2 (\u001b[38;5;33mDense\u001b[0m)                 │ (\u001b[38;5;45mNone\u001b[0m, \u001b[38;5;34m32\u001b[0m)             │         \u001b[38;5;34m2,080\u001b[0m │\n",
       "├─────────────────────────────────┼────────────────────────┼───────────────┤\n",
       "│ dense_3 (\u001b[38;5;33mDense\u001b[0m)                 │ (\u001b[38;5;45mNone\u001b[0m, \u001b[38;5;34m1\u001b[0m)              │            \u001b[38;5;34m33\u001b[0m │\n",
       "└─────────────────────────────────┴────────────────────────┴───────────────┘\n"
      ]
     },
     "metadata": {},
     "output_type": "display_data"
    },
    {
     "data": {
      "text/html": [
       "<pre style=\"white-space:pre;overflow-x:auto;line-height:normal;font-family:Menlo,'DejaVu Sans Mono',consolas,'Courier New',monospace\"><span style=\"font-weight: bold\"> Total params: </span><span style=\"color: #00af00; text-decoration-color: #00af00\">11,649</span> (45.50 KB)\n",
       "</pre>\n"
      ],
      "text/plain": [
       "\u001b[1m Total params: \u001b[0m\u001b[38;5;34m11,649\u001b[0m (45.50 KB)\n"
      ]
     },
     "metadata": {},
     "output_type": "display_data"
    },
    {
     "data": {
      "text/html": [
       "<pre style=\"white-space:pre;overflow-x:auto;line-height:normal;font-family:Menlo,'DejaVu Sans Mono',consolas,'Courier New',monospace\"><span style=\"font-weight: bold\"> Trainable params: </span><span style=\"color: #00af00; text-decoration-color: #00af00\">11,649</span> (45.50 KB)\n",
       "</pre>\n"
      ],
      "text/plain": [
       "\u001b[1m Trainable params: \u001b[0m\u001b[38;5;34m11,649\u001b[0m (45.50 KB)\n"
      ]
     },
     "metadata": {},
     "output_type": "display_data"
    },
    {
     "data": {
      "text/html": [
       "<pre style=\"white-space:pre;overflow-x:auto;line-height:normal;font-family:Menlo,'DejaVu Sans Mono',consolas,'Courier New',monospace\"><span style=\"font-weight: bold\"> Non-trainable params: </span><span style=\"color: #00af00; text-decoration-color: #00af00\">0</span> (0.00 B)\n",
       "</pre>\n"
      ],
      "text/plain": [
       "\u001b[1m Non-trainable params: \u001b[0m\u001b[38;5;34m0\u001b[0m (0.00 B)\n"
      ]
     },
     "metadata": {},
     "output_type": "display_data"
    }
   ],
   "source": [
    "# Cell 5: Build the Dense Neural Network (DNN) Model\n",
    "print(\"\\nBuilding the DNN model...\")\n",
    "\n",
    "model = Sequential([\n",
    "    # Input layer: The shape must match the number of features after preprocessing\n",
    "    Dense(128, activation='relu', input_shape=[X_train_processed.shape[1]]),\n",
    "    Dropout(0.3),\n",
    "    Dense(64, activation='relu'),\n",
    "    Dropout(0.3),\n",
    "    Dense(32, activation='relu'),\n",
    "    # Output layer: A single neuron for the single regression value (yield)\n",
    "    Dense(1)\n",
    "])\n",
    "\n",
    "# Compile the model\n",
    "model.compile(optimizer='adam', loss='mean_squared_error', metrics=['mean_absolute_error'])\n",
    "\n",
    "model.summary()"
   ]
  },
  {
   "cell_type": "code",
   "execution_count": 6,
   "id": "8b6a1d38",
   "metadata": {},
   "outputs": [
    {
     "name": "stdout",
     "output_type": "stream",
     "text": [
      "\n",
      "Training the DNN model...\n",
      "Epoch 1/50\n",
      "\u001b[1m3/3\u001b[0m \u001b[32m━━━━━━━━━━━━━━━━━━━━\u001b[0m\u001b[37m\u001b[0m \u001b[1m4s\u001b[0m 188ms/step - loss: 1270133.8750 - mean_absolute_error: 1010.9336 - val_loss: 3317288.2500 - val_mean_absolute_error: 1707.0941\n",
      "Epoch 2/50\n",
      "\u001b[1m3/3\u001b[0m \u001b[32m━━━━━━━━━━━━━━━━━━━━\u001b[0m\u001b[37m\u001b[0m \u001b[1m0s\u001b[0m 55ms/step - loss: 1270001.5000 - mean_absolute_error: 1010.8730 - val_loss: 3316815.7500 - val_mean_absolute_error: 1706.9603\n",
      "Epoch 3/50\n",
      "\u001b[1m3/3\u001b[0m \u001b[32m━━━━━━━━━━━━━━━━━━━━\u001b[0m\u001b[37m\u001b[0m \u001b[1m0s\u001b[0m 71ms/step - loss: 1269863.6250 - mean_absolute_error: 1010.7821 - val_loss: 3316363.2500 - val_mean_absolute_error: 1706.8252\n",
      "Epoch 4/50\n",
      "\u001b[1m3/3\u001b[0m \u001b[32m━━━━━━━━━━━━━━━━━━━━\u001b[0m\u001b[37m\u001b[0m \u001b[1m0s\u001b[0m 55ms/step - loss: 1269393.3750 - mean_absolute_error: 1010.6172 - val_loss: 3315803.0000 - val_mean_absolute_error: 1706.6578\n",
      "Epoch 5/50\n",
      "\u001b[1m3/3\u001b[0m \u001b[32m━━━━━━━━━━━━━━━━━━━━\u001b[0m\u001b[37m\u001b[0m \u001b[1m0s\u001b[0m 100ms/step - loss: 1269142.2500 - mean_absolute_error: 1010.4904 - val_loss: 3315146.7500 - val_mean_absolute_error: 1706.4679\n",
      "Epoch 6/50\n",
      "\u001b[1m3/3\u001b[0m \u001b[32m━━━━━━━━━━━━━━━━━━━━\u001b[0m\u001b[37m\u001b[0m \u001b[1m0s\u001b[0m 41ms/step - loss: 1268690.0000 - mean_absolute_error: 1010.2939 - val_loss: 3314388.2500 - val_mean_absolute_error: 1706.2487\n",
      "Epoch 7/50\n",
      "\u001b[1m3/3\u001b[0m \u001b[32m━━━━━━━━━━━━━━━━━━━━\u001b[0m\u001b[37m\u001b[0m \u001b[1m0s\u001b[0m 53ms/step - loss: 1268630.2500 - mean_absolute_error: 1010.2264 - val_loss: 3313521.7500 - val_mean_absolute_error: 1705.9974\n",
      "Epoch 8/50\n",
      "\u001b[1m3/3\u001b[0m \u001b[32m━━━━━━━━━━━━━━━━━━━━\u001b[0m\u001b[37m\u001b[0m \u001b[1m0s\u001b[0m 38ms/step - loss: 1268082.2500 - mean_absolute_error: 1009.9874 - val_loss: 3312434.2500 - val_mean_absolute_error: 1705.6830\n",
      "Epoch 9/50\n",
      "\u001b[1m3/3\u001b[0m \u001b[32m━━━━━━━━━━━━━━━━━━━━\u001b[0m\u001b[37m\u001b[0m \u001b[1m0s\u001b[0m 81ms/step - loss: 1267508.6250 - mean_absolute_error: 1009.6664 - val_loss: 3311110.7500 - val_mean_absolute_error: 1705.3019\n",
      "Epoch 10/50\n",
      "\u001b[1m3/3\u001b[0m \u001b[32m━━━━━━━━━━━━━━━━━━━━\u001b[0m\u001b[37m\u001b[0m \u001b[1m0s\u001b[0m 36ms/step - loss: 1267091.6250 - mean_absolute_error: 1009.5366 - val_loss: 3309540.2500 - val_mean_absolute_error: 1704.8516\n",
      "Epoch 11/50\n",
      "\u001b[1m3/3\u001b[0m \u001b[32m━━━━━━━━━━━━━━━━━━━━\u001b[0m\u001b[37m\u001b[0m \u001b[1m0s\u001b[0m 43ms/step - loss: 1265815.1250 - mean_absolute_error: 1009.0208 - val_loss: 3307652.0000 - val_mean_absolute_error: 1704.3105\n",
      "Epoch 12/50\n",
      "\u001b[1m3/3\u001b[0m \u001b[32m━━━━━━━━━━━━━━━━━━━━\u001b[0m\u001b[37m\u001b[0m \u001b[1m0s\u001b[0m 62ms/step - loss: 1265566.0000 - mean_absolute_error: 1008.8237 - val_loss: 3305493.2500 - val_mean_absolute_error: 1703.6935\n",
      "Epoch 13/50\n",
      "\u001b[1m3/3\u001b[0m \u001b[32m━━━━━━━━━━━━━━━━━━━━\u001b[0m\u001b[37m\u001b[0m \u001b[1m0s\u001b[0m 52ms/step - loss: 1264251.7500 - mean_absolute_error: 1008.2786 - val_loss: 3302919.0000 - val_mean_absolute_error: 1702.9575\n",
      "Epoch 14/50\n",
      "\u001b[1m3/3\u001b[0m \u001b[32m━━━━━━━━━━━━━━━━━━━━\u001b[0m\u001b[37m\u001b[0m \u001b[1m0s\u001b[0m 45ms/step - loss: 1262506.5000 - mean_absolute_error: 1007.5272 - val_loss: 3299867.2500 - val_mean_absolute_error: 1702.0802\n",
      "Epoch 15/50\n",
      "\u001b[1m3/3\u001b[0m \u001b[32m━━━━━━━━━━━━━━━━━━━━\u001b[0m\u001b[37m\u001b[0m \u001b[1m0s\u001b[0m 45ms/step - loss: 1262336.8750 - mean_absolute_error: 1007.3640 - val_loss: 3296230.2500 - val_mean_absolute_error: 1701.0292\n",
      "Epoch 16/50\n",
      "\u001b[1m3/3\u001b[0m \u001b[32m━━━━━━━━━━━━━━━━━━━━\u001b[0m\u001b[37m\u001b[0m \u001b[1m0s\u001b[0m 50ms/step - loss: 1258870.1250 - mean_absolute_error: 1006.0344 - val_loss: 3291796.0000 - val_mean_absolute_error: 1699.7472\n",
      "Epoch 17/50\n",
      "\u001b[1m3/3\u001b[0m \u001b[32m━━━━━━━━━━━━━━━━━━━━\u001b[0m\u001b[37m\u001b[0m \u001b[1m0s\u001b[0m 52ms/step - loss: 1257512.8750 - mean_absolute_error: 1005.4662 - val_loss: 3286677.2500 - val_mean_absolute_error: 1698.2622\n",
      "Epoch 18/50\n",
      "\u001b[1m3/3\u001b[0m \u001b[32m━━━━━━━━━━━━━━━━━━━━\u001b[0m\u001b[37m\u001b[0m \u001b[1m0s\u001b[0m 92ms/step - loss: 1255537.7500 - mean_absolute_error: 1004.1202 - val_loss: 3280621.0000 - val_mean_absolute_error: 1696.5093\n",
      "Epoch 19/50\n",
      "\u001b[1m3/3\u001b[0m \u001b[32m━━━━━━━━━━━━━━━━━━━━\u001b[0m\u001b[37m\u001b[0m \u001b[1m0s\u001b[0m 48ms/step - loss: 1252806.6250 - mean_absolute_error: 1003.3284 - val_loss: 3273583.7500 - val_mean_absolute_error: 1694.4694\n",
      "Epoch 20/50\n",
      "\u001b[1m3/3\u001b[0m \u001b[32m━━━━━━━━━━━━━━━━━━━━\u001b[0m\u001b[37m\u001b[0m \u001b[1m0s\u001b[0m 41ms/step - loss: 1250180.0000 - mean_absolute_error: 1001.6273 - val_loss: 3265300.7500 - val_mean_absolute_error: 1692.0677\n",
      "Epoch 21/50\n",
      "\u001b[1m3/3\u001b[0m \u001b[32m━━━━━━━━━━━━━━━━━━━━\u001b[0m\u001b[37m\u001b[0m \u001b[1m0s\u001b[0m 56ms/step - loss: 1247649.3750 - mean_absolute_error: 1000.4018 - val_loss: 3255981.7500 - val_mean_absolute_error: 1689.3519\n",
      "Epoch 22/50\n",
      "\u001b[1m3/3\u001b[0m \u001b[32m━━━━━━━━━━━━━━━━━━━━\u001b[0m\u001b[37m\u001b[0m \u001b[1m0s\u001b[0m 71ms/step - loss: 1241228.7500 - mean_absolute_error: 997.9212 - val_loss: 3245203.2500 - val_mean_absolute_error: 1686.2001\n",
      "Epoch 23/50\n",
      "\u001b[1m3/3\u001b[0m \u001b[32m━━━━━━━━━━━━━━━━━━━━\u001b[0m\u001b[37m\u001b[0m \u001b[1m0s\u001b[0m 69ms/step - loss: 1233226.6250 - mean_absolute_error: 993.8376 - val_loss: 3232304.2500 - val_mean_absolute_error: 1682.4208\n",
      "Epoch 24/50\n",
      "\u001b[1m3/3\u001b[0m \u001b[32m━━━━━━━━━━━━━━━━━━━━\u001b[0m\u001b[37m\u001b[0m \u001b[1m0s\u001b[0m 56ms/step - loss: 1230471.3750 - mean_absolute_error: 991.9479 - val_loss: 3217361.7500 - val_mean_absolute_error: 1678.0223\n",
      "Epoch 25/50\n",
      "\u001b[1m3/3\u001b[0m \u001b[32m━━━━━━━━━━━━━━━━━━━━\u001b[0m\u001b[37m\u001b[0m \u001b[1m0s\u001b[0m 55ms/step - loss: 1222349.8750 - mean_absolute_error: 989.9636 - val_loss: 3200011.2500 - val_mean_absolute_error: 1672.8955\n",
      "Epoch 26/50\n",
      "\u001b[1m3/3\u001b[0m \u001b[32m━━━━━━━━━━━━━━━━━━━━\u001b[0m\u001b[37m\u001b[0m \u001b[1m0s\u001b[0m 56ms/step - loss: 1211846.6250 - mean_absolute_error: 985.1248 - val_loss: 3179076.0000 - val_mean_absolute_error: 1666.6987\n",
      "Epoch 27/50\n",
      "\u001b[1m3/3\u001b[0m \u001b[32m━━━━━━━━━━━━━━━━━━━━\u001b[0m\u001b[37m\u001b[0m \u001b[1m0s\u001b[0m 56ms/step - loss: 1205062.8750 - mean_absolute_error: 981.3281 - val_loss: 3153919.2500 - val_mean_absolute_error: 1659.2260\n",
      "Epoch 28/50\n",
      "\u001b[1m3/3\u001b[0m \u001b[32m━━━━━━━━━━━━━━━━━━━━\u001b[0m\u001b[37m\u001b[0m \u001b[1m0s\u001b[0m 58ms/step - loss: 1198638.8750 - mean_absolute_error: 977.1174 - val_loss: 3124355.0000 - val_mean_absolute_error: 1650.3966\n",
      "Epoch 29/50\n",
      "\u001b[1m3/3\u001b[0m \u001b[32m━━━━━━━━━━━━━━━━━━━━\u001b[0m\u001b[37m\u001b[0m \u001b[1m0s\u001b[0m 59ms/step - loss: 1184997.1250 - mean_absolute_error: 970.9097 - val_loss: 3090663.7500 - val_mean_absolute_error: 1640.2950\n",
      "Epoch 30/50\n",
      "\u001b[1m3/3\u001b[0m \u001b[32m━━━━━━━━━━━━━━━━━━━━\u001b[0m\u001b[37m\u001b[0m \u001b[1m0s\u001b[0m 66ms/step - loss: 1151642.0000 - mean_absolute_error: 958.1593 - val_loss: 3051288.7500 - val_mean_absolute_error: 1628.4005\n",
      "Epoch 31/50\n",
      "\u001b[1m3/3\u001b[0m \u001b[32m━━━━━━━━━━━━━━━━━━━━\u001b[0m\u001b[37m\u001b[0m \u001b[1m0s\u001b[0m 70ms/step - loss: 1146514.5000 - mean_absolute_error: 952.3806 - val_loss: 3004795.7500 - val_mean_absolute_error: 1614.2484\n",
      "Epoch 32/50\n",
      "\u001b[1m3/3\u001b[0m \u001b[32m━━━━━━━━━━━━━━━━━━━━\u001b[0m\u001b[37m\u001b[0m \u001b[1m0s\u001b[0m 67ms/step - loss: 1129215.0000 - mean_absolute_error: 944.3311 - val_loss: 2952819.2500 - val_mean_absolute_error: 1598.2734\n",
      "Epoch 33/50\n",
      "\u001b[1m3/3\u001b[0m \u001b[32m━━━━━━━━━━━━━━━━━━━━\u001b[0m\u001b[37m\u001b[0m \u001b[1m0s\u001b[0m 46ms/step - loss: 1086374.0000 - mean_absolute_error: 926.9530 - val_loss: 2895114.7500 - val_mean_absolute_error: 1580.3676\n",
      "Epoch 34/50\n",
      "\u001b[1m3/3\u001b[0m \u001b[32m━━━━━━━━━━━━━━━━━━━━\u001b[0m\u001b[37m\u001b[0m \u001b[1m0s\u001b[0m 63ms/step - loss: 1092903.8750 - mean_absolute_error: 926.6116 - val_loss: 2831778.2500 - val_mean_absolute_error: 1560.4562\n",
      "Epoch 35/50\n",
      "\u001b[1m3/3\u001b[0m \u001b[32m━━━━━━━━━━━━━━━━━━━━\u001b[0m\u001b[37m\u001b[0m \u001b[1m0s\u001b[0m 50ms/step - loss: 1049601.5000 - mean_absolute_error: 904.2292 - val_loss: 2760504.5000 - val_mean_absolute_error: 1537.7799\n",
      "Epoch 36/50\n",
      "\u001b[1m3/3\u001b[0m \u001b[32m━━━━━━━━━━━━━━━━━━━━\u001b[0m\u001b[37m\u001b[0m \u001b[1m0s\u001b[0m 62ms/step - loss: 994661.5625 - mean_absolute_error: 881.6299 - val_loss: 2681539.7500 - val_mean_absolute_error: 1512.2938\n",
      "Epoch 37/50\n",
      "\u001b[1m3/3\u001b[0m \u001b[32m━━━━━━━━━━━━━━━━━━━━\u001b[0m\u001b[37m\u001b[0m \u001b[1m0s\u001b[0m 63ms/step - loss: 959901.7500 - mean_absolute_error: 863.8271 - val_loss: 2594176.7500 - val_mean_absolute_error: 1483.6172\n",
      "Epoch 38/50\n",
      "\u001b[1m3/3\u001b[0m \u001b[32m━━━━━━━━━━━━━━━━━━━━\u001b[0m\u001b[37m\u001b[0m \u001b[1m0s\u001b[0m 55ms/step - loss: 937070.2500 - mean_absolute_error: 852.4760 - val_loss: 2501130.2500 - val_mean_absolute_error: 1452.4430\n",
      "Epoch 39/50\n",
      "\u001b[1m3/3\u001b[0m \u001b[32m━━━━━━━━━━━━━━━━━━━━\u001b[0m\u001b[37m\u001b[0m \u001b[1m0s\u001b[0m 65ms/step - loss: 886484.3750 - mean_absolute_error: 827.3922 - val_loss: 2396410.7500 - val_mean_absolute_error: 1416.5099\n",
      "Epoch 40/50\n",
      "\u001b[1m3/3\u001b[0m \u001b[32m━━━━━━━━━━━━━━━━━━━━\u001b[0m\u001b[37m\u001b[0m \u001b[1m0s\u001b[0m 59ms/step - loss: 843717.6875 - mean_absolute_error: 804.1392 - val_loss: 2281944.2500 - val_mean_absolute_error: 1376.1803\n",
      "Epoch 41/50\n",
      "\u001b[1m3/3\u001b[0m \u001b[32m━━━━━━━━━━━━━━━━━━━━\u001b[0m\u001b[37m\u001b[0m \u001b[1m0s\u001b[0m 43ms/step - loss: 773642.0000 - mean_absolute_error: 757.8328 - val_loss: 2163508.0000 - val_mean_absolute_error: 1333.1704\n",
      "Epoch 42/50\n",
      "\u001b[1m3/3\u001b[0m \u001b[32m━━━━━━━━━━━━━━━━━━━━\u001b[0m\u001b[37m\u001b[0m \u001b[1m0s\u001b[0m 61ms/step - loss: 716846.9375 - mean_absolute_error: 731.2020 - val_loss: 2033803.6250 - val_mean_absolute_error: 1284.5321\n",
      "Epoch 43/50\n",
      "\u001b[1m3/3\u001b[0m \u001b[32m━━━━━━━━━━━━━━━━━━━━\u001b[0m\u001b[37m\u001b[0m \u001b[1m0s\u001b[0m 48ms/step - loss: 646395.8125 - mean_absolute_error: 687.5577 - val_loss: 1900304.3750 - val_mean_absolute_error: 1232.3806\n",
      "Epoch 44/50\n",
      "\u001b[1m3/3\u001b[0m \u001b[32m━━━━━━━━━━━━━━━━━━━━\u001b[0m\u001b[37m\u001b[0m \u001b[1m0s\u001b[0m 61ms/step - loss: 641495.7500 - mean_absolute_error: 649.9312 - val_loss: 1764201.1250 - val_mean_absolute_error: 1176.8309\n",
      "Epoch 45/50\n",
      "\u001b[1m3/3\u001b[0m \u001b[32m━━━━━━━━━━━━━━━━━━━━\u001b[0m\u001b[37m\u001b[0m \u001b[1m0s\u001b[0m 53ms/step - loss: 522937.8750 - mean_absolute_error: 603.4796 - val_loss: 1622659.3750 - val_mean_absolute_error: 1116.2181\n",
      "Epoch 46/50\n",
      "\u001b[1m3/3\u001b[0m \u001b[32m━━━━━━━━━━━━━━━━━━━━\u001b[0m\u001b[37m\u001b[0m \u001b[1m0s\u001b[0m 52ms/step - loss: 506456.4375 - mean_absolute_error: 589.9049 - val_loss: 1479384.6250 - val_mean_absolute_error: 1051.3097\n",
      "Epoch 47/50\n",
      "\u001b[1m3/3\u001b[0m \u001b[32m━━━━━━━━━━━━━━━━━━━━\u001b[0m\u001b[37m\u001b[0m \u001b[1m0s\u001b[0m 54ms/step - loss: 407642.0000 - mean_absolute_error: 509.4501 - val_loss: 1341428.3750 - val_mean_absolute_error: 984.7800\n",
      "Epoch 48/50\n",
      "\u001b[1m3/3\u001b[0m \u001b[32m━━━━━━━━━━━━━━━━━━━━\u001b[0m\u001b[37m\u001b[0m \u001b[1m0s\u001b[0m 60ms/step - loss: 386676.6250 - mean_absolute_error: 498.0783 - val_loss: 1200346.8750 - val_mean_absolute_error: 911.8286\n",
      "Epoch 49/50\n",
      "\u001b[1m3/3\u001b[0m \u001b[32m━━━━━━━━━━━━━━━━━━━━\u001b[0m\u001b[37m\u001b[0m \u001b[1m0s\u001b[0m 64ms/step - loss: 297489.1875 - mean_absolute_error: 410.6836 - val_loss: 1068185.2500 - val_mean_absolute_error: 849.7289\n",
      "Epoch 50/50\n",
      "\u001b[1m3/3\u001b[0m \u001b[32m━━━━━━━━━━━━━━━━━━━━\u001b[0m\u001b[37m\u001b[0m \u001b[1m0s\u001b[0m 55ms/step - loss: 247639.2188 - mean_absolute_error: 369.5961 - val_loss: 945342.5625 - val_mean_absolute_error: 822.6176\n",
      "Model training complete.\n"
     ]
    }
   ],
   "source": [
    "# Cell 6: Train the Model\n",
    "print(\"\\nTraining the DNN model...\")\n",
    "\n",
    "history = model.fit(\n",
    "    X_train_processed,\n",
    "    y_train,\n",
    "    epochs=50,  # DNNs often train faster, so we can use more epochs\n",
    "    batch_size=4, # Use a smaller batch size for smaller datasets\n",
    "    validation_split=0.2,\n",
    "    verbose=1\n",
    ")\n",
    "\n",
    "print(\"Model training complete.\")"
   ]
  },
  {
   "cell_type": "code",
   "execution_count": 7,
   "id": "b7e24183",
   "metadata": {},
   "outputs": [
    {
     "name": "stdout",
     "output_type": "stream",
     "text": [
      "\n",
      "Evaluating the DNN model on the test set...\n",
      "Test Set Mean Absolute Error (MAE): 337.51 kg/ha\n",
      "This DNN model's yield predictions are, on average, off by 337.51 kg/ha.\n"
     ]
    }
   ],
   "source": [
    "# Cell 7: Evaluate the Model\n",
    "print(\"\\nEvaluating the DNN model on the test set...\")\n",
    "\n",
    "loss, mae = model.evaluate(X_test_processed, y_test, verbose=0)\n",
    "print(f\"Test Set Mean Absolute Error (MAE): {mae:.2f} kg/ha\")\n",
    "print(f\"This DNN model's yield predictions are, on average, off by {mae:.2f} kg/ha.\")"
   ]
  },
  {
   "cell_type": "code",
   "execution_count": 8,
   "id": "caa0d764",
   "metadata": {},
   "outputs": [
    {
     "name": "stderr",
     "output_type": "stream",
     "text": [
      "WARNING:absl:You are saving your model as an HDF5 file via `model.save()` or `keras.saving.save_model(model)`. This file format is considered legacy. We recommend using instead the native Keras format, e.g. `model.save('my_model.keras')` or `keras.saving.save_model(model, 'my_model.keras')`. \n"
     ]
    },
    {
     "name": "stdout",
     "output_type": "stream",
     "text": [
      "\n",
      "Saving the trained model and the preprocessor...\n",
      "Model saved successfully to: ../backend/models/soil_microbe_yield_model.h5\n",
      "Preprocessor saved successfully to: ../backend/models/soil_data_preprocessor.joblib\n"
     ]
    }
   ],
   "source": [
    "# Cell 8: Save the Trained Model and the Preprocessor\n",
    "print(\"\\nSaving the trained model and the preprocessor...\")\n",
    "\n",
    "# Define the path to save the model and preprocessor\n",
    "model_dir = '../backend/models/'\n",
    "os.makedirs(model_dir, exist_ok=True)\n",
    "model_path = os.path.join(model_dir, 'soil_microbe_yield_model.h5')\n",
    "preprocessor_path = os.path.join(model_dir, 'soil_data_preprocessor.joblib')\n",
    "\n",
    "# Save the model\n",
    "model.save(model_path)\n",
    "\n",
    "# Save the preprocessor object for later use in the backend API\n",
    "joblib.dump(preprocessor, preprocessor_path)\n",
    "\n",
    "print(f\"Model saved successfully to: {model_path}\")\n",
    "print(f\"Preprocessor saved successfully to: {preprocessor_path}\")"
   ]
  }
 ],
 "metadata": {
  "kernelspec": {
   "display_name": "venv",
   "language": "python",
   "name": "python3"
  },
  "language_info": {
   "codemirror_mode": {
    "name": "ipython",
    "version": 3
   },
   "file_extension": ".py",
   "mimetype": "text/x-python",
   "name": "python",
   "nbconvert_exporter": "python",
   "pygments_lexer": "ipython3",
   "version": "3.11.0"
  }
 },
 "nbformat": 4,
 "nbformat_minor": 5
}
