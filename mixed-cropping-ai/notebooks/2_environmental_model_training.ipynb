{
 "cells": [
  {
   "cell_type": "code",
   "execution_count": 5,
   "id": "516aff7f-3508-4c33-85c3-a30c5c97a639",
   "metadata": {},
   "outputs": [
    {
     "name": "stdout",
     "output_type": "stream",
     "text": [
      "TensorFlow Version: 2.19.0\n",
      "Libraries imported.\n"
     ]
    }
   ],
   "source": [
    "# Cell 1: Import Libraries\n",
    "import pandas as pd\n",
    "import numpy as np\n",
    "import tensorflow as tf\n",
    "from tensorflow.keras.models import Sequential\n",
    "from tensorflow.keras.layers import Conv1D, MaxPooling1D, LSTM, Dense, Flatten, Dropout\n",
    "from sklearn.preprocessing import MinMaxScaler\n",
    "from sklearn.model_selection import train_test_split\n",
    "import os\n",
    "import matplotlib.pyplot as plt\n",
    "\n",
    "print(\"TensorFlow Version:\", tf.__version__)\n",
    "print(\"Libraries imported.\")"
   ]
  },
  {
   "cell_type": "code",
   "execution_count": 6,
   "id": "543510ce-d5a9-47a0-9341-ddd6f0ea9ec8",
   "metadata": {},
   "outputs": [
    {
     "name": "stdout",
     "output_type": "stream",
     "text": [
      "Loading datasets...\n",
      "Datasets loaded and merged successfully.\n",
      "Shape of the combined data: (131400, 7)\n",
      "            timestamp  plot_id  temperature  humidity  soil_moisture  soil_ph  \\\n",
      "0 2024-01-01 00:00:00        0        30.67     74.29          58.80     5.75   \n",
      "1 2024-01-01 01:00:00        0        30.92     80.56          64.54     5.90   \n",
      "2 2024-01-01 02:00:00        0        30.22     77.35          61.61     5.88   \n",
      "3 2024-01-01 03:00:00        0        29.81     85.52          69.10     5.72   \n",
      "4 2024-01-01 04:00:00        0        31.43     81.97          65.84     5.79   \n",
      "\n",
      "   yield_kg_ha  \n",
      "0       1877.3  \n",
      "1       1877.3  \n",
      "2       1877.3  \n",
      "3       1877.3  \n",
      "4       1877.3  \n"
     ]
    }
   ],
   "source": [
    "# Cell 2: Load and Combine Datasets\n",
    "print(\"Loading datasets...\")\n",
    "\n",
    "# Load the environmental time-series data\n",
    "try:\n",
    "    env_df = pd.read_csv('../data/simulated/environmental_data.csv', parse_dates=['timestamp'])\n",
    "except FileNotFoundError:\n",
    "    print(\"ERROR: environmental_data.csv not found. Please run the '1_data_simulation.ipynb' notebook first.\")\n",
    "    # Stop execution if file is not found\n",
    "    raise\n",
    "\n",
    "# Load the soil data which contains our target variable (yield)\n",
    "try:\n",
    "    soil_df = pd.read_csv('../data/simulated/soil_microbe_data.csv')\n",
    "except FileNotFoundError:\n",
    "    print(\"ERROR: soil_microbe_data.csv not found. Please run the '1_data_simulation.ipynb' notebook first.\")\n",
    "    raise\n",
    "\n",
    "# We need to associate the time-series data with a single yield output.\n",
    "# For this simulation, we'll associate all environmental data for a plot with its final yield.\n",
    "data_df = pd.merge(env_df, soil_df[['plot_id', 'yield_kg_ha']], on='plot_id')\n",
    "\n",
    "print(\"Datasets loaded and merged successfully.\")\n",
    "print(\"Shape of the combined data:\", data_df.shape)\n",
    "print(data_df.head())"
   ]
  },
  {
   "cell_type": "code",
   "execution_count": 7,
   "id": "16d099da-af8d-4d15-bf44-100a9f7319ce",
   "metadata": {},
   "outputs": [
    {
     "name": "stdout",
     "output_type": "stream",
     "text": [
      "\n",
      "Preprocessing data...\n",
      "Features normalized.\n",
      "         temperature       humidity  soil_moisture        soil_ph\n",
      "count  131400.000000  131400.000000  131400.000000  131400.000000\n",
      "mean        0.494300       0.591438       0.569515       0.487609\n",
      "std         0.216240       0.227936       0.193736       0.253553\n",
      "min         0.000000       0.000000       0.000000       0.000000\n",
      "25%         0.291320       0.386130       0.406709       0.241667\n",
      "50%         0.494649       0.591301       0.569175       0.450000\n",
      "75%         0.696790       0.797292       0.735811       0.750000\n",
      "max         1.000000       1.000000       1.000000       1.000000\n"
     ]
    }
   ],
   "source": [
    "# Cell 3: Data Preprocessing\n",
    "print(\"\\nPreprocessing data...\")\n",
    "\n",
    "# Select features for the model and the target\n",
    "features = ['temperature', 'humidity', 'soil_moisture', 'soil_ph']\n",
    "target = 'yield_kg_ha'\n",
    "\n",
    "# Normalize the features to be between 0 and 1 for better model performance\n",
    "scaler = MinMaxScaler(feature_range=(0, 1))\n",
    "data_df[features] = scaler.fit_transform(data_df[features])\n",
    "\n",
    "print(\"Features normalized.\")\n",
    "print(data_df[features].describe())"
   ]
  },
  {
   "cell_type": "code",
   "execution_count": 8,
   "id": "a56d8eef-6d2d-403b-b398-4c0b09fca4e9",
   "metadata": {},
   "outputs": [
    {
     "name": "stdout",
     "output_type": "stream",
     "text": [
      "\n",
      "Creating time-series sequences...\n",
      "Created 128880 sequences.\n",
      "Shape of X (sequences): (128880, 168, 4)\n",
      "Shape of y (targets): (128880,)\n"
     ]
    }
   ],
   "source": [
    "# Cell 4: Create Time-Series Sequences\n",
    "print(\"\\nCreating time-series sequences...\")\n",
    "\n",
    "# We will use a sequence of past environmental data to predict the yield.\n",
    "# Let's define a sequence length, e.g., one week (24 * 7 = 168 hours).\n",
    "SEQUENCE_LENGTH = 168\n",
    "X, y = [], []\n",
    "\n",
    "# Group data by plot_id to create sequences for each plot\n",
    "for plot_id, group in data_df.groupby('plot_id'):\n",
    "    plot_features = group[features].values\n",
    "    plot_target = group[target].iloc[0] # Yield is constant for a given plot\n",
    "\n",
    "    # Create overlapping sequences\n",
    "    for i in range(len(plot_features) - SEQUENCE_LENGTH):\n",
    "        X.append(plot_features[i:(i + SEQUENCE_LENGTH)])\n",
    "        y.append(plot_target)\n",
    "\n",
    "X = np.array(X)\n",
    "y = np.array(y)\n",
    "\n",
    "print(f\"Created {len(X)} sequences.\")\n",
    "print(\"Shape of X (sequences):\", X.shape) # (num_sequences, timesteps, num_features)\n",
    "print(\"Shape of y (targets):\", y.shape)"
   ]
  },
  {
   "cell_type": "code",
   "execution_count": 10,
   "id": "9ba649ca-db0e-471f-91e0-9ff3ae5fa3f4",
   "metadata": {},
   "outputs": [
    {
     "name": "stdout",
     "output_type": "stream",
     "text": [
      "\n",
      "Splitting data into training and testing sets...\n",
      "Training data shape: (103104, 168, 4)\n",
      "Testing data shape: (25776, 168, 4)\n"
     ]
    }
   ],
   "source": [
    "# Cell 5: Split Data for Training and Testing\n",
    "print(\"\\nSplitting data into training and testing sets...\")\n",
    "\n",
    "# Split the data into training and testing sets\n",
    "X_train, X_test, y_train, y_test = train_test_split(X, y, test_size=0.2, random_state=42)\n",
    "\n",
    "print(\"Training data shape:\", X_train.shape)\n",
    "print(\"Testing data shape:\", X_test.shape)"
   ]
  },
  {
   "cell_type": "code",
   "execution_count": 11,
   "id": "3cc785cc-0d7f-4028-a399-c0f433d8d9d0",
   "metadata": {},
   "outputs": [
    {
     "name": "stdout",
     "output_type": "stream",
     "text": [
      "\n",
      "Building the hybrid model...\n"
     ]
    },
    {
     "name": "stderr",
     "output_type": "stream",
     "text": [
      "C:\\Final_Year_Project\\venv\\Lib\\site-packages\\keras\\src\\layers\\convolutional\\base_conv.py:113: UserWarning: Do not pass an `input_shape`/`input_dim` argument to a layer. When using Sequential models, prefer using an `Input(shape)` object as the first layer in the model instead.\n",
      "  super().__init__(activity_regularizer=activity_regularizer, **kwargs)\n"
     ]
    },
    {
     "data": {
      "text/html": [
       "<pre style=\"white-space:pre;overflow-x:auto;line-height:normal;font-family:Menlo,'DejaVu Sans Mono',consolas,'Courier New',monospace\"><span style=\"font-weight: bold\">Model: \"sequential\"</span>\n",
       "</pre>\n"
      ],
      "text/plain": [
       "\u001b[1mModel: \"sequential\"\u001b[0m\n"
      ]
     },
     "metadata": {},
     "output_type": "display_data"
    },
    {
     "data": {
      "text/html": [
       "<pre style=\"white-space:pre;overflow-x:auto;line-height:normal;font-family:Menlo,'DejaVu Sans Mono',consolas,'Courier New',monospace\">┏━━━━━━━━━━━━━━━━━━━━━━━━━━━━━━━━━━━━━━┳━━━━━━━━━━━━━━━━━━━━━━━━━━━━━┳━━━━━━━━━━━━━━━━━┓\n",
       "┃<span style=\"font-weight: bold\"> Layer (type)                         </span>┃<span style=\"font-weight: bold\"> Output Shape                </span>┃<span style=\"font-weight: bold\">         Param # </span>┃\n",
       "┡━━━━━━━━━━━━━━━━━━━━━━━━━━━━━━━━━━━━━━╇━━━━━━━━━━━━━━━━━━━━━━━━━━━━━╇━━━━━━━━━━━━━━━━━┩\n",
       "│ conv1d (<span style=\"color: #0087ff; text-decoration-color: #0087ff\">Conv1D</span>)                      │ (<span style=\"color: #00d7ff; text-decoration-color: #00d7ff\">None</span>, <span style=\"color: #00af00; text-decoration-color: #00af00\">166</span>, <span style=\"color: #00af00; text-decoration-color: #00af00\">64</span>)             │             <span style=\"color: #00af00; text-decoration-color: #00af00\">832</span> │\n",
       "├──────────────────────────────────────┼─────────────────────────────┼─────────────────┤\n",
       "│ conv1d_1 (<span style=\"color: #0087ff; text-decoration-color: #0087ff\">Conv1D</span>)                    │ (<span style=\"color: #00d7ff; text-decoration-color: #00d7ff\">None</span>, <span style=\"color: #00af00; text-decoration-color: #00af00\">164</span>, <span style=\"color: #00af00; text-decoration-color: #00af00\">64</span>)             │          <span style=\"color: #00af00; text-decoration-color: #00af00\">12,352</span> │\n",
       "├──────────────────────────────────────┼─────────────────────────────┼─────────────────┤\n",
       "│ max_pooling1d (<span style=\"color: #0087ff; text-decoration-color: #0087ff\">MaxPooling1D</span>)         │ (<span style=\"color: #00d7ff; text-decoration-color: #00d7ff\">None</span>, <span style=\"color: #00af00; text-decoration-color: #00af00\">82</span>, <span style=\"color: #00af00; text-decoration-color: #00af00\">64</span>)              │               <span style=\"color: #00af00; text-decoration-color: #00af00\">0</span> │\n",
       "├──────────────────────────────────────┼─────────────────────────────┼─────────────────┤\n",
       "│ dropout (<span style=\"color: #0087ff; text-decoration-color: #0087ff\">Dropout</span>)                    │ (<span style=\"color: #00d7ff; text-decoration-color: #00d7ff\">None</span>, <span style=\"color: #00af00; text-decoration-color: #00af00\">82</span>, <span style=\"color: #00af00; text-decoration-color: #00af00\">64</span>)              │               <span style=\"color: #00af00; text-decoration-color: #00af00\">0</span> │\n",
       "├──────────────────────────────────────┼─────────────────────────────┼─────────────────┤\n",
       "│ lstm (<span style=\"color: #0087ff; text-decoration-color: #0087ff\">LSTM</span>)                          │ (<span style=\"color: #00d7ff; text-decoration-color: #00d7ff\">None</span>, <span style=\"color: #00af00; text-decoration-color: #00af00\">100</span>)                 │          <span style=\"color: #00af00; text-decoration-color: #00af00\">66,000</span> │\n",
       "├──────────────────────────────────────┼─────────────────────────────┼─────────────────┤\n",
       "│ dropout_1 (<span style=\"color: #0087ff; text-decoration-color: #0087ff\">Dropout</span>)                  │ (<span style=\"color: #00d7ff; text-decoration-color: #00d7ff\">None</span>, <span style=\"color: #00af00; text-decoration-color: #00af00\">100</span>)                 │               <span style=\"color: #00af00; text-decoration-color: #00af00\">0</span> │\n",
       "├──────────────────────────────────────┼─────────────────────────────┼─────────────────┤\n",
       "│ dense (<span style=\"color: #0087ff; text-decoration-color: #0087ff\">Dense</span>)                        │ (<span style=\"color: #00d7ff; text-decoration-color: #00d7ff\">None</span>, <span style=\"color: #00af00; text-decoration-color: #00af00\">50</span>)                  │           <span style=\"color: #00af00; text-decoration-color: #00af00\">5,050</span> │\n",
       "├──────────────────────────────────────┼─────────────────────────────┼─────────────────┤\n",
       "│ dense_1 (<span style=\"color: #0087ff; text-decoration-color: #0087ff\">Dense</span>)                      │ (<span style=\"color: #00d7ff; text-decoration-color: #00d7ff\">None</span>, <span style=\"color: #00af00; text-decoration-color: #00af00\">1</span>)                   │              <span style=\"color: #00af00; text-decoration-color: #00af00\">51</span> │\n",
       "└──────────────────────────────────────┴─────────────────────────────┴─────────────────┘\n",
       "</pre>\n"
      ],
      "text/plain": [
       "┏━━━━━━━━━━━━━━━━━━━━━━━━━━━━━━━━━━━━━━┳━━━━━━━━━━━━━━━━━━━━━━━━━━━━━┳━━━━━━━━━━━━━━━━━┓\n",
       "┃\u001b[1m \u001b[0m\u001b[1mLayer (type)                        \u001b[0m\u001b[1m \u001b[0m┃\u001b[1m \u001b[0m\u001b[1mOutput Shape               \u001b[0m\u001b[1m \u001b[0m┃\u001b[1m \u001b[0m\u001b[1m        Param #\u001b[0m\u001b[1m \u001b[0m┃\n",
       "┡━━━━━━━━━━━━━━━━━━━━━━━━━━━━━━━━━━━━━━╇━━━━━━━━━━━━━━━━━━━━━━━━━━━━━╇━━━━━━━━━━━━━━━━━┩\n",
       "│ conv1d (\u001b[38;5;33mConv1D\u001b[0m)                      │ (\u001b[38;5;45mNone\u001b[0m, \u001b[38;5;34m166\u001b[0m, \u001b[38;5;34m64\u001b[0m)             │             \u001b[38;5;34m832\u001b[0m │\n",
       "├──────────────────────────────────────┼─────────────────────────────┼─────────────────┤\n",
       "│ conv1d_1 (\u001b[38;5;33mConv1D\u001b[0m)                    │ (\u001b[38;5;45mNone\u001b[0m, \u001b[38;5;34m164\u001b[0m, \u001b[38;5;34m64\u001b[0m)             │          \u001b[38;5;34m12,352\u001b[0m │\n",
       "├──────────────────────────────────────┼─────────────────────────────┼─────────────────┤\n",
       "│ max_pooling1d (\u001b[38;5;33mMaxPooling1D\u001b[0m)         │ (\u001b[38;5;45mNone\u001b[0m, \u001b[38;5;34m82\u001b[0m, \u001b[38;5;34m64\u001b[0m)              │               \u001b[38;5;34m0\u001b[0m │\n",
       "├──────────────────────────────────────┼─────────────────────────────┼─────────────────┤\n",
       "│ dropout (\u001b[38;5;33mDropout\u001b[0m)                    │ (\u001b[38;5;45mNone\u001b[0m, \u001b[38;5;34m82\u001b[0m, \u001b[38;5;34m64\u001b[0m)              │               \u001b[38;5;34m0\u001b[0m │\n",
       "├──────────────────────────────────────┼─────────────────────────────┼─────────────────┤\n",
       "│ lstm (\u001b[38;5;33mLSTM\u001b[0m)                          │ (\u001b[38;5;45mNone\u001b[0m, \u001b[38;5;34m100\u001b[0m)                 │          \u001b[38;5;34m66,000\u001b[0m │\n",
       "├──────────────────────────────────────┼─────────────────────────────┼─────────────────┤\n",
       "│ dropout_1 (\u001b[38;5;33mDropout\u001b[0m)                  │ (\u001b[38;5;45mNone\u001b[0m, \u001b[38;5;34m100\u001b[0m)                 │               \u001b[38;5;34m0\u001b[0m │\n",
       "├──────────────────────────────────────┼─────────────────────────────┼─────────────────┤\n",
       "│ dense (\u001b[38;5;33mDense\u001b[0m)                        │ (\u001b[38;5;45mNone\u001b[0m, \u001b[38;5;34m50\u001b[0m)                  │           \u001b[38;5;34m5,050\u001b[0m │\n",
       "├──────────────────────────────────────┼─────────────────────────────┼─────────────────┤\n",
       "│ dense_1 (\u001b[38;5;33mDense\u001b[0m)                      │ (\u001b[38;5;45mNone\u001b[0m, \u001b[38;5;34m1\u001b[0m)                   │              \u001b[38;5;34m51\u001b[0m │\n",
       "└──────────────────────────────────────┴─────────────────────────────┴─────────────────┘\n"
      ]
     },
     "metadata": {},
     "output_type": "display_data"
    },
    {
     "data": {
      "text/html": [
       "<pre style=\"white-space:pre;overflow-x:auto;line-height:normal;font-family:Menlo,'DejaVu Sans Mono',consolas,'Courier New',monospace\"><span style=\"font-weight: bold\"> Total params: </span><span style=\"color: #00af00; text-decoration-color: #00af00\">84,285</span> (329.24 KB)\n",
       "</pre>\n"
      ],
      "text/plain": [
       "\u001b[1m Total params: \u001b[0m\u001b[38;5;34m84,285\u001b[0m (329.24 KB)\n"
      ]
     },
     "metadata": {},
     "output_type": "display_data"
    },
    {
     "data": {
      "text/html": [
       "<pre style=\"white-space:pre;overflow-x:auto;line-height:normal;font-family:Menlo,'DejaVu Sans Mono',consolas,'Courier New',monospace\"><span style=\"font-weight: bold\"> Trainable params: </span><span style=\"color: #00af00; text-decoration-color: #00af00\">84,285</span> (329.24 KB)\n",
       "</pre>\n"
      ],
      "text/plain": [
       "\u001b[1m Trainable params: \u001b[0m\u001b[38;5;34m84,285\u001b[0m (329.24 KB)\n"
      ]
     },
     "metadata": {},
     "output_type": "display_data"
    },
    {
     "data": {
      "text/html": [
       "<pre style=\"white-space:pre;overflow-x:auto;line-height:normal;font-family:Menlo,'DejaVu Sans Mono',consolas,'Courier New',monospace\"><span style=\"font-weight: bold\"> Non-trainable params: </span><span style=\"color: #00af00; text-decoration-color: #00af00\">0</span> (0.00 B)\n",
       "</pre>\n"
      ],
      "text/plain": [
       "\u001b[1m Non-trainable params: \u001b[0m\u001b[38;5;34m0\u001b[0m (0.00 B)\n"
      ]
     },
     "metadata": {},
     "output_type": "display_data"
    }
   ],
   "source": [
    "# Cell 6: Build the 1D-CNN + LSTM Hybrid Model\n",
    "print(\"\\nBuilding the hybrid model...\")\n",
    "\n",
    "# Define model parameters\n",
    "n_timesteps, n_features = X_train.shape[1], X_train.shape[2]\n",
    "\n",
    "model = Sequential([\n",
    "    # 1. Convolutional Layer to extract features from time steps\n",
    "    Conv1D(filters=64, kernel_size=3, activation='relu', input_shape=(n_timesteps, n_features)),\n",
    "    Conv1D(filters=64, kernel_size=3, activation='relu'),\n",
    "    MaxPooling1D(pool_size=2),\n",
    "    Dropout(0.3),\n",
    "\n",
    "    # 2. LSTM Layer to understand the sequence of the extracted features\n",
    "    LSTM(100, activation='relu'),\n",
    "    Dropout(0.3),\n",
    "\n",
    "    # 3. Dense Layer to make the final prediction\n",
    "    Dense(50, activation='relu'),\n",
    "    Dense(1) # Output layer: predicts a single value (yield)\n",
    "])\n",
    "\n",
    "# Compile the model\n",
    "# We use Mean Squared Error as the loss function for this regression problem\n",
    "model.compile(optimizer='adam', loss='mse', metrics=['mae']) # MAE: Mean Absolute Error\n",
    "\n",
    "model.summary()"
   ]
  },
  {
   "cell_type": "code",
   "execution_count": 12,
   "id": "5692f934-399a-47cd-b850-2a3df0c93c72",
   "metadata": {},
   "outputs": [
    {
     "name": "stdout",
     "output_type": "stream",
     "text": [
      "\n",
      "Training the model... (This may take some time)\n",
      "Epoch 1/10\n",
      "\u001b[1m2578/2578\u001b[0m \u001b[32m━━━━━━━━━━━━━━━━━━━━\u001b[0m\u001b[37m\u001b[0m \u001b[1m145s\u001b[0m 55ms/step - loss: 266169614336.0000 - mae: 6577.3916 - val_loss: 1788747.1250 - val_mae: 1203.0548\n",
      "Epoch 2/10\n",
      "\u001b[1m2578/2578\u001b[0m \u001b[32m━━━━━━━━━━━━━━━━━━━━\u001b[0m\u001b[37m\u001b[0m \u001b[1m157s\u001b[0m 61ms/step - loss: 1782788.6250 - mae: 1199.7321 - val_loss: 1788627.3750 - val_mae: 1203.0051\n",
      "Epoch 3/10\n",
      "\u001b[1m2578/2578\u001b[0m \u001b[32m━━━━━━━━━━━━━━━━━━━━\u001b[0m\u001b[37m\u001b[0m \u001b[1m155s\u001b[0m 60ms/step - loss: 1782542.7500 - mae: 1199.6296 - val_loss: 1788186.5000 - val_mae: 1202.8220\n",
      "Epoch 4/10\n",
      "\u001b[1m2578/2578\u001b[0m \u001b[32m━━━━━━━━━━━━━━━━━━━━\u001b[0m\u001b[37m\u001b[0m \u001b[1m144s\u001b[0m 56ms/step - loss: 1781661.6250 - mae: 1199.2606 - val_loss: 1786651.5000 - val_mae: 1202.1832\n",
      "Epoch 5/10\n",
      "\u001b[1m2578/2578\u001b[0m \u001b[32m━━━━━━━━━━━━━━━━━━━━\u001b[0m\u001b[37m\u001b[0m \u001b[1m147s\u001b[0m 57ms/step - loss: 1778968.0000 - mae: 1198.1387 - val_loss: 1782618.7500 - val_mae: 1200.5050\n",
      "Epoch 6/10\n",
      "\u001b[1m2578/2578\u001b[0m \u001b[32m━━━━━━━━━━━━━━━━━━━━\u001b[0m\u001b[37m\u001b[0m \u001b[1m169s\u001b[0m 65ms/step - loss: 1773889.5000 - mae: 1196.0167 - val_loss: 1776808.5000 - val_mae: 1198.0839\n",
      "Epoch 7/10\n",
      "\u001b[1m2578/2578\u001b[0m \u001b[32m━━━━━━━━━━━━━━━━━━━━\u001b[0m\u001b[37m\u001b[0m \u001b[1m166s\u001b[0m 64ms/step - loss: 1767885.2500 - mae: 1193.5066 - val_loss: 1770692.0000 - val_mae: 1195.5284\n",
      "Epoch 8/10\n",
      "\u001b[1m2578/2578\u001b[0m \u001b[32m━━━━━━━━━━━━━━━━━━━━\u001b[0m\u001b[37m\u001b[0m \u001b[1m183s\u001b[0m 71ms/step - loss: 1761778.5000 - mae: 1190.9429 - val_loss: 1764565.7500 - val_mae: 1192.9626\n",
      "Epoch 9/10\n",
      "\u001b[1m2578/2578\u001b[0m \u001b[32m━━━━━━━━━━━━━━━━━━━━\u001b[0m\u001b[37m\u001b[0m \u001b[1m162s\u001b[0m 63ms/step - loss: 1755674.6250 - mae: 1188.3762 - val_loss: 1758452.8750 - val_mae: 1190.3984\n",
      "Epoch 10/10\n",
      "\u001b[1m2578/2578\u001b[0m \u001b[32m━━━━━━━━━━━━━━━━━━━━\u001b[0m\u001b[37m\u001b[0m \u001b[1m263s\u001b[0m 86ms/step - loss: 1749580.5000 - mae: 1185.8119 - val_loss: 1752347.1250 - val_mae: 1187.8317\n",
      "Model training complete.\n"
     ]
    }
   ],
   "source": [
    "# Cell 7: Train the Model\n",
    "print(\"\\nTraining the model... (This may take some time)\")\n",
    "\n",
    "# Train the model on the training data\n",
    "# We use a validation split to monitor performance on unseen data during training\n",
    "history = model.fit(\n",
    "    X_train,\n",
    "    y_train,\n",
    "    epochs=10, # Start with a few epochs, can be increased later\n",
    "    batch_size=32,\n",
    "    validation_split=0.2,\n",
    "    verbose=1\n",
    ")\n",
    "\n",
    "print(\"Model training complete.\")"
   ]
  },
  {
   "cell_type": "code",
   "execution_count": 13,
   "id": "b3bc487d-f52e-448c-8720-187d9dbfdda0",
   "metadata": {},
   "outputs": [
    {
     "name": "stdout",
     "output_type": "stream",
     "text": [
      "\n",
      "Evaluating the model on the test set...\n",
      "Test Set Mean Absolute Error (MAE): 1188.60 kg/ha\n",
      "This means the model's yield predictions are, on average, off by 1188.60 kg/ha.\n"
     ]
    }
   ],
   "source": [
    "# Cell 8: Evaluate the Model\n",
    "print(\"\\nEvaluating the model on the test set...\")\n",
    "\n",
    "loss, mae = model.evaluate(X_test, y_test, verbose=0)\n",
    "print(f\"Test Set Mean Absolute Error (MAE): {mae:.2f} kg/ha\")\n",
    "print(f\"This means the model's yield predictions are, on average, off by {mae:.2f} kg/ha.\")"
   ]
  },
  {
   "cell_type": "code",
   "execution_count": 14,
   "id": "7df08280-0787-45f2-8361-e9f417d4dc8a",
   "metadata": {},
   "outputs": [
    {
     "name": "stdout",
     "output_type": "stream",
     "text": [
      "\n",
      "Plotting training history...\n"
     ]
    },
    {
     "data": {
      "image/png": "[encoded data removed]",
      "text/plain": [
       "<Figure size 1200x500 with 2 Axes>"
      ]
     },
     "metadata": {},
     "output_type": "display_data"
    }
   ],
   "source": [
    "# Cell 9: Plot Training History\n",
    "print(\"\\nPlotting training history...\")\n",
    "\n",
    "plt.figure(figsize=(12, 5))\n",
    "\n",
    "# Plot training & validation loss values\n",
    "plt.subplot(1, 2, 1)\n",
    "plt.plot(history.history['loss'])\n",
    "plt.plot(history.history['val_loss'])\n",
    "plt.title('Model Loss')\n",
    "plt.ylabel('Loss (MSE)')\n",
    "plt.xlabel('Epoch')\n",
    "plt.legend(['Train', 'Validation'], loc='upper right')\n",
    "\n",
    "# Plot training & validation MAE values\n",
    "plt.subplot(1, 2, 2)\n",
    "plt.plot(history.history['mae'])\n",
    "plt.plot(history.history['val_mae'])\n",
    "plt.title('Model Mean Absolute Error')\n",
    "plt.ylabel('MAE')\n",
    "plt.xlabel('Epoch')\n",
    "plt.legend(['Train', 'Validation'], loc='upper right')\n",
    "\n",
    "plt.tight_layout()\n",
    "plt.show()"
   ]
  },
  {
   "cell_type": "code",
   "execution_count": 15,
   "id": "85acb19a-485c-4a3e-8a5c-4227bfbd47f2",
   "metadata": {},
   "outputs": [
    {
     "name": "stderr",
     "output_type": "stream",
     "text": [
      "WARNING:absl:You are saving your model as an HDF5 file via `model.save()` or `keras.saving.save_model(model)`. This file format is considered legacy. We recommend using instead the native Keras format, e.g. `model.save('my_model.keras')` or `keras.saving.save_model(model, 'my_model.keras')`. \n"
     ]
    },
    {
     "name": "stdout",
     "output_type": "stream",
     "text": [
      "\n",
      "Saving the trained model...\n",
      "Model saved successfully to: ../backend/models/environmental_yield_model.h5\n"
     ]
    }
   ],
   "source": [
    "# Cell 10: Save the Trained Model\n",
    "print(\"\\nSaving the trained model...\")\n",
    "\n",
    "# Define the path to save the model\n",
    "model_dir = '../backend/models/'\n",
    "os.makedirs(model_dir, exist_ok=True)\n",
    "model_path = os.path.join(model_dir, 'environmental_yield_model.h5')\n",
    "\n",
    "# Save the model in the HDF5 format\n",
    "model.save(model_path)\n",
    "\n",
    "print(f\"Model saved successfully to: {model_path}\")"
   ]
  },
  {
   "cell_type": "code",
   "execution_count": null,
   "id": "7945a96a-215e-4b62-acd2-5930c486e7a6",
   "metadata": {},
   "outputs": [],
   "source": []
  }
 ],
 "metadata": {
  "kernelspec": {
   "display_name": "venv",
   "language": "python",
   "name": "python3"
  },
  "language_info": {
   "codemirror_mode": {
    "name": "ipython",
    "version": 3
   },
   "file_extension": ".py",
   "mimetype": "text/x-python",
   "name": "python",
   "nbconvert_exporter": "python",
   "pygments_lexer": "ipython3",
   "version": "3.11.0"
  }
 },
 "nbformat": 4,
 "nbformat_minor": 5
}
